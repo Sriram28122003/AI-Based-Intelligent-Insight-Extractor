{
 "cells": [
  {
   "cell_type": "code",
   "execution_count": 1,
   "id": "090021d9-be3f-4f05-a418-a37a63ac0d2f",
   "metadata": {},
   "outputs": [
    {
     "name": "stdout",
     "output_type": "stream",
     "text": [
      "Requirement already satisfied: numpy in c:\\users\\srira\\anaconda3\\lib\\site-packages (2.0.2)\n",
      "Collecting numpy\n",
      "  Using cached numpy-2.1.3-cp312-cp312-win_amd64.whl.metadata (60 kB)\n",
      "Requirement already satisfied: h5py in c:\\users\\srira\\anaconda3\\lib\\site-packages (3.12.1)\n",
      "Requirement already satisfied: spacy in c:\\users\\srira\\anaconda3\\lib\\site-packages (3.8.2)\n",
      "Requirement already satisfied: spacy-legacy<3.1.0,>=3.0.11 in c:\\users\\srira\\anaconda3\\lib\\site-packages (from spacy) (3.0.12)\n",
      "Requirement already satisfied: spacy-loggers<2.0.0,>=1.0.0 in c:\\users\\srira\\anaconda3\\lib\\site-packages (from spacy) (1.0.5)\n",
      "Requirement already satisfied: murmurhash<1.1.0,>=0.28.0 in c:\\users\\srira\\anaconda3\\lib\\site-packages (from spacy) (1.0.11)\n",
      "Requirement already satisfied: cymem<2.1.0,>=2.0.2 in c:\\users\\srira\\anaconda3\\lib\\site-packages (from spacy) (2.0.10)\n",
      "Requirement already satisfied: preshed<3.1.0,>=3.0.2 in c:\\users\\srira\\anaconda3\\lib\\site-packages (from spacy) (3.0.9)\n",
      "Requirement already satisfied: thinc<8.4.0,>=8.3.0 in c:\\users\\srira\\anaconda3\\lib\\site-packages (from spacy) (8.3.2)\n",
      "Requirement already satisfied: wasabi<1.2.0,>=0.9.1 in c:\\users\\srira\\anaconda3\\lib\\site-packages (from spacy) (1.1.3)\n",
      "Requirement already satisfied: srsly<3.0.0,>=2.4.3 in c:\\users\\srira\\anaconda3\\lib\\site-packages (from spacy) (2.4.8)\n",
      "Requirement already satisfied: catalogue<2.1.0,>=2.0.6 in c:\\users\\srira\\anaconda3\\lib\\site-packages (from spacy) (2.0.10)\n",
      "Requirement already satisfied: weasel<0.5.0,>=0.1.0 in c:\\users\\srira\\anaconda3\\lib\\site-packages (from spacy) (0.4.1)\n",
      "Requirement already satisfied: typer<1.0.0,>=0.3.0 in c:\\users\\srira\\anaconda3\\lib\\site-packages (from spacy) (0.13.1)\n",
      "Requirement already satisfied: tqdm<5.0.0,>=4.38.0 in c:\\users\\srira\\anaconda3\\lib\\site-packages (from spacy) (4.66.5)\n",
      "Requirement already satisfied: requests<3.0.0,>=2.13.0 in c:\\users\\srira\\anaconda3\\lib\\site-packages (from spacy) (2.32.3)\n",
      "Requirement already satisfied: pydantic!=1.8,!=1.8.1,<3.0.0,>=1.7.4 in c:\\users\\srira\\anaconda3\\lib\\site-packages (from spacy) (2.8.2)\n",
      "Requirement already satisfied: jinja2 in c:\\users\\srira\\anaconda3\\lib\\site-packages (from spacy) (3.1.4)\n",
      "Requirement already satisfied: setuptools in c:\\users\\srira\\anaconda3\\lib\\site-packages (from spacy) (75.1.0)\n",
      "Requirement already satisfied: packaging>=20.0 in c:\\users\\srira\\anaconda3\\lib\\site-packages (from spacy) (24.1)\n",
      "Requirement already satisfied: langcodes<4.0.0,>=3.2.0 in c:\\users\\srira\\anaconda3\\lib\\site-packages (from spacy) (3.5.0)\n",
      "Requirement already satisfied: language-data>=1.2 in c:\\users\\srira\\anaconda3\\lib\\site-packages (from langcodes<4.0.0,>=3.2.0->spacy) (1.3.0)\n",
      "Requirement already satisfied: annotated-types>=0.4.0 in c:\\users\\srira\\anaconda3\\lib\\site-packages (from pydantic!=1.8,!=1.8.1,<3.0.0,>=1.7.4->spacy) (0.6.0)\n",
      "Requirement already satisfied: pydantic-core==2.20.1 in c:\\users\\srira\\anaconda3\\lib\\site-packages (from pydantic!=1.8,!=1.8.1,<3.0.0,>=1.7.4->spacy) (2.20.1)\n",
      "Requirement already satisfied: typing-extensions>=4.6.1 in c:\\users\\srira\\anaconda3\\lib\\site-packages (from pydantic!=1.8,!=1.8.1,<3.0.0,>=1.7.4->spacy) (4.11.0)\n",
      "Requirement already satisfied: charset-normalizer<4,>=2 in c:\\users\\srira\\anaconda3\\lib\\site-packages (from requests<3.0.0,>=2.13.0->spacy) (3.3.2)\n",
      "Requirement already satisfied: idna<4,>=2.5 in c:\\users\\srira\\anaconda3\\lib\\site-packages (from requests<3.0.0,>=2.13.0->spacy) (3.7)\n",
      "Requirement already satisfied: urllib3<3,>=1.21.1 in c:\\users\\srira\\anaconda3\\lib\\site-packages (from requests<3.0.0,>=2.13.0->spacy) (2.2.3)\n",
      "Requirement already satisfied: certifi>=2017.4.17 in c:\\users\\srira\\anaconda3\\lib\\site-packages (from requests<3.0.0,>=2.13.0->spacy) (2024.8.30)\n",
      "Requirement already satisfied: blis<1.1.0,>=1.0.0 in c:\\users\\srira\\anaconda3\\lib\\site-packages (from thinc<8.4.0,>=8.3.0->spacy) (1.0.1)\n",
      "Requirement already satisfied: confection<1.0.0,>=0.0.1 in c:\\users\\srira\\anaconda3\\lib\\site-packages (from thinc<8.4.0,>=8.3.0->spacy) (0.1.5)\n",
      "Requirement already satisfied: colorama in c:\\users\\srira\\anaconda3\\lib\\site-packages (from tqdm<5.0.0,>=4.38.0->spacy) (0.4.6)\n",
      "Requirement already satisfied: click>=8.0.0 in c:\\users\\srira\\anaconda3\\lib\\site-packages (from typer<1.0.0,>=0.3.0->spacy) (8.1.7)\n",
      "Requirement already satisfied: shellingham>=1.3.0 in c:\\users\\srira\\anaconda3\\lib\\site-packages (from typer<1.0.0,>=0.3.0->spacy) (1.5.4)\n",
      "Requirement already satisfied: rich>=10.11.0 in c:\\users\\srira\\anaconda3\\lib\\site-packages (from typer<1.0.0,>=0.3.0->spacy) (13.7.1)\n",
      "Requirement already satisfied: cloudpathlib<1.0.0,>=0.7.0 in c:\\users\\srira\\anaconda3\\lib\\site-packages (from weasel<0.5.0,>=0.1.0->spacy) (0.20.0)\n",
      "Requirement already satisfied: smart-open<8.0.0,>=5.2.1 in c:\\users\\srira\\anaconda3\\lib\\site-packages (from weasel<0.5.0,>=0.1.0->spacy) (5.2.1)\n",
      "Requirement already satisfied: MarkupSafe>=2.0 in c:\\users\\srira\\anaconda3\\lib\\site-packages (from jinja2->spacy) (2.1.3)\n",
      "Requirement already satisfied: marisa-trie>=1.1.0 in c:\\users\\srira\\anaconda3\\lib\\site-packages (from language-data>=1.2->langcodes<4.0.0,>=3.2.0->spacy) (1.2.1)\n",
      "Requirement already satisfied: markdown-it-py>=2.2.0 in c:\\users\\srira\\anaconda3\\lib\\site-packages (from rich>=10.11.0->typer<1.0.0,>=0.3.0->spacy) (2.2.0)\n",
      "Requirement already satisfied: pygments<3.0.0,>=2.13.0 in c:\\users\\srira\\anaconda3\\lib\\site-packages (from rich>=10.11.0->typer<1.0.0,>=0.3.0->spacy) (2.15.1)\n",
      "Requirement already satisfied: mdurl~=0.1 in c:\\users\\srira\\anaconda3\\lib\\site-packages (from markdown-it-py>=2.2.0->rich>=10.11.0->typer<1.0.0,>=0.3.0->spacy) (0.1.0)\n"
     ]
    }
   ],
   "source": [
    "!pip install --upgrade numpy h5py spacy\n",
    "\n"
   ]
  },
  {
   "cell_type": "code",
   "execution_count": 2,
   "id": "752dd6f8-dac2-44b2-9887-020f307bc26e",
   "metadata": {},
   "outputs": [],
   "source": [
    "import spacy\n",
    "from spacy.lang.en.stop_words import STOP_WORDS\n",
    "from string import punctuation"
   ]
  },
  {
   "cell_type": "code",
   "execution_count": 3,
   "id": "8ca4cf45-86cd-4003-a04e-9d36b04bdd97",
   "metadata": {},
   "outputs": [
    {
     "name": "stdout",
     "output_type": "stream",
     "text": [
      "Machine learning (ML) and artificial intelligence (AI) are becoming dominant problem-solving techniques in many areas of research and industry, not least because of the recent successes of deep learning (DL). However, the equation AI=ML=DL, as recently suggested in the news, blogs, and media, falls too short. These fields share the same fundamental hypotheses: computation is a useful way to model intelligent behavior in machines. What kind of computation and how to program it? This is not the right question. Computation neither rules out search, logical, and probabilistic techniques, nor (deep) (un)supervised and reinforcement learning methods, among others, as computational models do include all of them. They complement each other, and the next breakthrough lies not only in pushing each of them but also in combining them.\n",
      "\n",
      "Big Data is no fad. The world is growing at an exponential rate and so is the size of the data collected across the globe. Data is becoming more meaningful and contextually relevant, breaking new grounds for machine learning (ML), in particular for deep learning (DL) and artificial intelligence (AI), moving them out of research labs into production (Jordan and Mitchell, 2015). The problem has shifted from collecting massive amounts of data to understanding it—turning it into knowledge, conclusions, and actions. Multiple research disciplines, from cognitive sciences to biology, finance, physics, and social sciences, as well as many companies believe that data-driven and “intelligent” solutions are necessary to solve many of their key problems. High-throughput genomic and proteomic experiments can be used to enable personalized medicine. Large data sets of search queries can be used to improve information retrieval. Historical climate data can be used to understand global warming and to better predict weather. Large amounts of sensor readings and hyperspectral images of plants can be used to identify drought conditions and to gain insights into when and how stress impacts plant growth and development and in turn how to counterattack the problem of world hunger. Game data can turn pixels into actions within video games, while observational data can help enable robots to understand complex and unstructured environments and to learn manipulation skills.\n",
      "\n",
      "However, is AI, ML, and DL really synonymous, as recently suggested in the news, blogs, and media? For example, when AlphaGo (Silver et al., 2016) defeated South Korean Master Lee Se-dol in the board game Go in 2016, the terms AI, ML, and DL were used by the media to describe how AlphaGo won. In addition to this, even Gartner's list (Panetta, 2017) of top 10 Strategic Trends for 2018 places (narrow) AI at the very top, specifying it as “consisting of highly scoped machine-learning solutions that target a specific task.\n"
     ]
    }
   ],
   "source": [
    "# Passing the input data\n",
    "\n",
    "doc = \"\"\"Machine learning (ML) and artificial intelligence (AI) are becoming dominant problem-solving techniques in many areas of research and industry, not least because of the recent successes of deep learning (DL). However, the equation AI=ML=DL, as recently suggested in the news, blogs, and media, falls too short. These fields share the same fundamental hypotheses: computation is a useful way to model intelligent behavior in machines. What kind of computation and how to program it? This is not the right question. Computation neither rules out search, logical, and probabilistic techniques, nor (deep) (un)supervised and reinforcement learning methods, among others, as computational models do include all of them. They complement each other, and the next breakthrough lies not only in pushing each of them but also in combining them.\n",
    "\n",
    "Big Data is no fad. The world is growing at an exponential rate and so is the size of the data collected across the globe. Data is becoming more meaningful and contextually relevant, breaking new grounds for machine learning (ML), in particular for deep learning (DL) and artificial intelligence (AI), moving them out of research labs into production (Jordan and Mitchell, 2015). The problem has shifted from collecting massive amounts of data to understanding it—turning it into knowledge, conclusions, and actions. Multiple research disciplines, from cognitive sciences to biology, finance, physics, and social sciences, as well as many companies believe that data-driven and “intelligent” solutions are necessary to solve many of their key problems. High-throughput genomic and proteomic experiments can be used to enable personalized medicine. Large data sets of search queries can be used to improve information retrieval. Historical climate data can be used to understand global warming and to better predict weather. Large amounts of sensor readings and hyperspectral images of plants can be used to identify drought conditions and to gain insights into when and how stress impacts plant growth and development and in turn how to counterattack the problem of world hunger. Game data can turn pixels into actions within video games, while observational data can help enable robots to understand complex and unstructured environments and to learn manipulation skills.\n",
    "\n",
    "However, is AI, ML, and DL really synonymous, as recently suggested in the news, blogs, and media? For example, when AlphaGo (Silver et al., 2016) defeated South Korean Master Lee Se-dol in the board game Go in 2016, the terms AI, ML, and DL were used by the media to describe how AlphaGo won. In addition to this, even Gartner's list (Panetta, 2017) of top 10 Strategic Trends for 2018 places (narrow) AI at the very top, specifying it as “consisting of highly scoped machine-learning solutions that target a specific task.\"\"\"\n",
    "\n",
    "print(doc)"
   ]
  },
  {
   "cell_type": "code",
   "execution_count": 4,
   "id": "b793e9f5-b0a4-4835-a2f6-617917c0c45b",
   "metadata": {},
   "outputs": [
    {
     "name": "stdout",
     "output_type": "stream",
     "text": [
      "['anything', 'its', 'now', 'mostly', 'much', 'among', 'these', 'keep', '’s', 'eleven', 'several', 'thereafter', 'beforehand', 'own', 'became', 'anyhow', '’d', 'between', 'further', 'my', 'ever', 'well', 'wherever', 'amount', '‘d', 'so', 'me', 'done', 'from', 'although', 'whatever', 'latter', 'behind', 'there', 'yourself', 'once', 'ca', 'together', 'along', 'whose', 'without', 'everywhere', 'he', 'why', 'around', 'take', \"'ve\", 'myself', 'our', 'up', \"'m\", 'three', 'also', 'above', 'when', 'whole', 'call', 'various', 'really', 'whereas', 'been', 'afterwards', 'everyone', 'serious', 'becomes', 'either', 'too', 'whereupon', 'seemed', 'see', 'am', 'formerly', \"'s\", 'though', 'nowhere', 'this', 'no', 'still', 'hence', 'full', 'namely', 'former', 'almost', 'each', 'while', 'just', 'in', 'those', 'they', 'often', 'six', 'mine', 'whoever', 'ten', 'latterly', 'on', \"n't\", 'give', 'unless', 'become', 'was', 'had', 'show', 'could', 'upon', 'made', 'something', 'nobody', 'enough', 'noone', 'besides', 'whether', 'hundred', 'four', 'nothing', 'thus', 'at', 'due', 'moreover', 'last', 're', 'never', 'a', \"'re\", 'others', 'front', 'therefore', 'than', 'perhaps', 'always', 'over', 'via', 'many', 'against', 'twelve', 'neither', 'doing', 'their', 'should', 'side', 'have', 'eight', 'move', 'thereby', 'whenever', 'beyond', 'becoming', 'herein', 'not', 'using', 'few', 'used', 'will', 'next', 'more', 'since', 'anyway', 'top', '‘re', 'it', 'for', 'is', 'even', 'indeed', 'out', 'how', 'therein', 'ourselves', 'alone', 'of', '‘s', 'again', '’ve', 'least', 'until', 'seem', '‘m', 'thence', 'most', 'both', 'seems', 'here', 'his', \"'d\", 'rather', 'put', 'you', 'some', 'and', 'beside', 'or', 'other', 'get', 'them', 'nevertheless', 'i', 'your', 'hereby', 'can', 'whereby', 'fifteen', 'none', 'has', 'seeming', 'whom', 'somehow', 'would', 'within', 'empty', 'every', 'who', 'fifty', 'were', 'same', 'n’t', 'across', '’re', 'whence', 'towards', 'below', 'name', 'after', 'very', 'themselves', 'itself', 'twenty', 'yours', 'sometime', 'less', 'then', 'her', 'ours', 'through', 'say', 'elsewhere', 'all', 'sometimes', 'what', 'such', '‘ll', '’m', 'us', 'forty', 'that', 'otherwise', 'wherein', 'somewhere', 'we', 'except', 'under', 'hereupon', 'whereafter', 'first', 'else', 'hers', 'himself', 'make', 'someone', 'cannot', 'did', 'during', 'do', 'already', 'quite', 'yet', 'must', 'to', 'another', 'whither', 'bottom', 'yourselves', 'meanwhile', 'regarding', 'toward', 'by', 'which', 'if', 'but', 'two', 'per', 'being', 'anyone', 'third', '’ll', 'however', 'with', 'are', 'please', 'thereupon', 'the', 'hereafter', 'off', 'back', 'before', 'does', 'as', 'five', 'nine', 'only', '‘ve', 'an', 'she', 'about', 'n‘t', 'be', 'anywhere', 'might', 'down', 'amongst', 'nor', 'because', 'onto', 'one', 'into', 'where', 'everything', 'herself', 'go', 'part', \"'ll\", 'thru', 'throughout', 'any', 'sixty', 'him', 'may']\n"
     ]
    }
   ],
   "source": [
    "# To visualize the stop words\n",
    "\n",
    "stopWords = list(STOP_WORDS)\n",
    "print(stopWords)"
   ]
  },
  {
   "cell_type": "code",
   "execution_count": 5,
   "id": "078fe641-dd9c-4a6f-b811-f386d25fb52f",
   "metadata": {},
   "outputs": [],
   "source": [
    "# Loading english language... (3 different packages are available --small--medium--large). We are loading small packages.\n",
    "\n",
    "nlp = spacy.load('en_core_web_sm')"
   ]
  },
  {
   "cell_type": "code",
   "execution_count": 6,
   "id": "64ecf0da-4b56-4d85-85aa-675454ac8d34",
   "metadata": {},
   "outputs": [
    {
     "name": "stdout",
     "output_type": "stream",
     "text": [
      "Machine learning (ML) and artificial intelligence (AI) are becoming dominant problem-solving techniques in many areas of research and industry, not least because of the recent successes of deep learning (DL). However, the equation AI=ML=DL, as recently suggested in the news, blogs, and media, falls too short. These fields share the same fundamental hypotheses: computation is a useful way to model intelligent behavior in machines. What kind of computation and how to program it? This is not the right question. Computation neither rules out search, logical, and probabilistic techniques, nor (deep) (un)supervised and reinforcement learning methods, among others, as computational models do include all of them. They complement each other, and the next breakthrough lies not only in pushing each of them but also in combining them.\n",
      "\n",
      "Big Data is no fad. The world is growing at an exponential rate and so is the size of the data collected across the globe. Data is becoming more meaningful and contextually relevant, breaking new grounds for machine learning (ML), in particular for deep learning (DL) and artificial intelligence (AI), moving them out of research labs into production (Jordan and Mitchell, 2015). The problem has shifted from collecting massive amounts of data to understanding it—turning it into knowledge, conclusions, and actions. Multiple research disciplines, from cognitive sciences to biology, finance, physics, and social sciences, as well as many companies believe that data-driven and “intelligent” solutions are necessary to solve many of their key problems. High-throughput genomic and proteomic experiments can be used to enable personalized medicine. Large data sets of search queries can be used to improve information retrieval. Historical climate data can be used to understand global warming and to better predict weather. Large amounts of sensor readings and hyperspectral images of plants can be used to identify drought conditions and to gain insights into when and how stress impacts plant growth and development and in turn how to counterattack the problem of world hunger. Game data can turn pixels into actions within video games, while observational data can help enable robots to understand complex and unstructured environments and to learn manipulation skills.\n",
      "\n",
      "However, is AI, ML, and DL really synonymous, as recently suggested in the news, blogs, and media? For example, when AlphaGo (Silver et al., 2016) defeated South Korean Master Lee Se-dol in the board game Go in 2016, the terms AI, ML, and DL were used by the media to describe how AlphaGo won. In addition to this, even Gartner's list (Panetta, 2017) of top 10 Strategic Trends for 2018 places (narrow) AI at the very top, specifying it as “consisting of highly scoped machine-learning solutions that target a specific task.\n"
     ]
    }
   ],
   "source": [
    "# We are passing the input data to spacy \n",
    "\n",
    "docs = nlp(doc)\n",
    "print(doc)"
   ]
  },
  {
   "cell_type": "code",
   "execution_count": 7,
   "id": "5e310236-3552-4e29-9de8-50731db70bfe",
   "metadata": {},
   "outputs": [
    {
     "name": "stdout",
     "output_type": "stream",
     "text": [
      "['Machine', 'learning', '(', 'ML', ')', 'and', 'artificial', 'intelligence', '(', 'AI', ')', 'are', 'becoming', 'dominant', 'problem', '-', 'solving', 'techniques', 'in', 'many', 'areas', 'of', 'research', 'and', 'industry', ',', 'not', 'least', 'because', 'of', 'the', 'recent', 'successes', 'of', 'deep', 'learning', '(', 'DL', ')', '.', 'However', ',', 'the', 'equation', 'AI', '=', 'ML', '=', 'DL', ',', 'as', 'recently', 'suggested', 'in', 'the', 'news', ',', 'blogs', ',', 'and', 'media', ',', 'falls', 'too', 'short', '.', 'These', 'fields', 'share', 'the', 'same', 'fundamental', 'hypotheses', ':', 'computation', 'is', 'a', 'useful', 'way', 'to', 'model', 'intelligent', 'behavior', 'in', 'machines', '.', 'What', 'kind', 'of', 'computation', 'and', 'how', 'to', 'program', 'it', '?', 'This', 'is', 'not', 'the', 'right', 'question', '.', 'Computation', 'neither', 'rules', 'out', 'search', ',', 'logical', ',', 'and', 'probabilistic', 'techniques', ',', 'nor', '(', 'deep', ')', '(', 'un)supervised', 'and', 'reinforcement', 'learning', 'methods', ',', 'among', 'others', ',', 'as', 'computational', 'models', 'do', 'include', 'all', 'of', 'them', '.', 'They', 'complement', 'each', 'other', ',', 'and', 'the', 'next', 'breakthrough', 'lies', 'not', 'only', 'in', 'pushing', 'each', 'of', 'them', 'but', 'also', 'in', 'combining', 'them', '.', '\\n\\n', 'Big', 'Data', 'is', 'no', 'fad', '.', 'The', 'world', 'is', 'growing', 'at', 'an', 'exponential', 'rate', 'and', 'so', 'is', 'the', 'size', 'of', 'the', 'data', 'collected', 'across', 'the', 'globe', '.', 'Data', 'is', 'becoming', 'more', 'meaningful', 'and', 'contextually', 'relevant', ',', 'breaking', 'new', 'grounds', 'for', 'machine', 'learning', '(', 'ML', ')', ',', 'in', 'particular', 'for', 'deep', 'learning', '(', 'DL', ')', 'and', 'artificial', 'intelligence', '(', 'AI', ')', ',', 'moving', 'them', 'out', 'of', 'research', 'labs', 'into', 'production', '(', 'Jordan', 'and', 'Mitchell', ',', '2015', ')', '.', 'The', 'problem', 'has', 'shifted', 'from', 'collecting', 'massive', 'amounts', 'of', 'data', 'to', 'understanding', 'it', '—', 'turning', 'it', 'into', 'knowledge', ',', 'conclusions', ',', 'and', 'actions', '.', 'Multiple', 'research', 'disciplines', ',', 'from', 'cognitive', 'sciences', 'to', 'biology', ',', 'finance', ',', 'physics', ',', 'and', 'social', 'sciences', ',', 'as', 'well', 'as', 'many', 'companies', 'believe', 'that', 'data', '-', 'driven', 'and', '“', 'intelligent', '”', 'solutions', 'are', 'necessary', 'to', 'solve', 'many', 'of', 'their', 'key', 'problems', '.', 'High', '-', 'throughput', 'genomic', 'and', 'proteomic', 'experiments', 'can', 'be', 'used', 'to', 'enable', 'personalized', 'medicine', '.', 'Large', 'data', 'sets', 'of', 'search', 'queries', 'can', 'be', 'used', 'to', 'improve', 'information', 'retrieval', '.', 'Historical', 'climate', 'data', 'can', 'be', 'used', 'to', 'understand', 'global', 'warming', 'and', 'to', 'better', 'predict', 'weather', '.', 'Large', 'amounts', 'of', 'sensor', 'readings', 'and', 'hyperspectral', 'images', 'of', 'plants', 'can', 'be', 'used', 'to', 'identify', 'drought', 'conditions', 'and', 'to', 'gain', 'insights', 'into', 'when', 'and', 'how', 'stress', 'impacts', 'plant', 'growth', 'and', 'development', 'and', 'in', 'turn', 'how', 'to', 'counterattack', 'the', 'problem', 'of', 'world', 'hunger', '.', 'Game', 'data', 'can', 'turn', 'pixels', 'into', 'actions', 'within', 'video', 'games', ',', 'while', 'observational', 'data', 'can', 'help', 'enable', 'robots', 'to', 'understand', 'complex', 'and', 'unstructured', 'environments', 'and', 'to', 'learn', 'manipulation', 'skills', '.', '\\n\\n', 'However', ',', 'is', 'AI', ',', 'ML', ',', 'and', 'DL', 'really', 'synonymous', ',', 'as', 'recently', 'suggested', 'in', 'the', 'news', ',', 'blogs', ',', 'and', 'media', '?', 'For', 'example', ',', 'when', 'AlphaGo', '(', 'Silver', 'et', 'al', '.', ',', '2016', ')', 'defeated', 'South', 'Korean', 'Master', 'Lee', 'Se', '-', 'dol', 'in', 'the', 'board', 'game', 'Go', 'in', '2016', ',', 'the', 'terms', 'AI', ',', 'ML', ',', 'and', 'DL', 'were', 'used', 'by', 'the', 'media', 'to', 'describe', 'how', 'AlphaGo', 'won', '.', 'In', 'addition', 'to', 'this', ',', 'even', 'Gartner', \"'s\", 'list', '(', 'Panetta', ',', '2017', ')', 'of', 'top', '10', 'Strategic', 'Trends', 'for', '2018', 'places', '(', 'narrow', ')', 'AI', 'at', 'the', 'very', 'top', ',', 'specifying', 'it', 'as', '“', 'consisting', 'of', 'highly', 'scoped', 'machine', '-', 'learning', 'solutions', 'that', 'target', 'a', 'specific', 'task', '.']\n"
     ]
    }
   ],
   "source": [
    "# Word tokenization is performed\n",
    "\n",
    "tokens = [i.text for i in docs]\n",
    "print(tokens)"
   ]
  },
  {
   "cell_type": "code",
   "execution_count": 8,
   "id": "bb750d46-ca37-423a-908b-314b27a5a32b",
   "metadata": {},
   "outputs": [
    {
     "data": {
      "text/plain": [
       "'!\"#$%&\\'()*+,-./:;<=>?@[\\\\]^_`{|}~\\n'"
      ]
     },
     "execution_count": 8,
     "metadata": {},
     "output_type": "execute_result"
    }
   ],
   "source": [
    "# Punctuation\n",
    "\n",
    "punctuation = punctuation + '\\n'\n",
    "punctuation"
   ]
  },
  {
   "cell_type": "code",
   "execution_count": 9,
   "id": "acf4bf5d-a3b9-4816-8f1a-e437d8df3abc",
   "metadata": {},
   "outputs": [
    {
     "name": "stdout",
     "output_type": "stream",
     "text": [
      "!\n",
      "\"\n",
      "#\n",
      "$\n",
      "%\n",
      "&\n",
      "'\n",
      "(\n",
      ")\n",
      "*\n",
      "+\n",
      ",\n",
      "-\n",
      ".\n",
      "/\n",
      ":\n",
      ";\n",
      "<\n",
      "=\n",
      ">\n",
      "?\n",
      "@\n",
      "[\n",
      "\\\n",
      "]\n",
      "^\n",
      "_\n",
      "`\n",
      "{\n",
      "|\n",
      "}\n",
      "~\n",
      "\n",
      "\n"
     ]
    }
   ],
   "source": [
    "for i in punctuation:\n",
    "    print(i)"
   ]
  },
  {
   "cell_type": "code",
   "execution_count": 10,
   "id": "f17cc9c5-8705-4868-99c4-46691cc3e317",
   "metadata": {},
   "outputs": [
    {
     "name": "stdout",
     "output_type": "stream",
     "text": [
      "{'Machine': 1, 'learning': 6, 'ML': 5, 'artificial': 2, 'intelligence': 2, 'AI': 6, 'dominant': 1, 'problem': 3, 'solving': 1, 'techniques': 2, 'areas': 1, 'research': 3, 'industry': 1, 'recent': 1, 'successes': 1, 'deep': 3, 'DL': 5, 'equation': 1, 'recently': 2, 'suggested': 2, 'news': 2, 'blogs': 2, 'media': 3, 'falls': 1, 'short': 1, 'fields': 1, 'share': 1, 'fundamental': 1, 'hypotheses': 1, 'computation': 2, 'useful': 1, 'way': 1, 'model': 1, 'intelligent': 2, 'behavior': 1, 'machines': 1, 'kind': 1, 'program': 1, 'right': 1, 'question': 1, 'Computation': 1, 'rules': 1, 'search': 2, 'logical': 1, 'probabilistic': 1, 'un)supervised': 1, 'reinforcement': 1, 'methods': 1, 'computational': 1, 'models': 1, 'include': 1, 'complement': 1, 'breakthrough': 1, 'lies': 1, 'pushing': 1, 'combining': 1, '\\n\\n': 2, 'Big': 1, 'Data': 2, 'fad': 1, 'world': 2, 'growing': 1, 'exponential': 1, 'rate': 1, 'size': 1, 'data': 7, 'collected': 1, 'globe': 1, 'meaningful': 1, 'contextually': 1, 'relevant': 1, 'breaking': 1, 'new': 1, 'grounds': 1, 'machine': 2, 'particular': 1, 'moving': 1, 'labs': 1, 'production': 1, 'Jordan': 1, 'Mitchell': 1, '2015': 1, 'shifted': 1, 'collecting': 1, 'massive': 1, 'amounts': 2, 'understanding': 1, '—': 1, 'turning': 1, 'knowledge': 1, 'conclusions': 1, 'actions': 2, 'Multiple': 1, 'disciplines': 1, 'cognitive': 1, 'sciences': 2, 'biology': 1, 'finance': 1, 'physics': 1, 'social': 1, 'companies': 1, 'believe': 1, 'driven': 1, '“': 2, '”': 1, 'solutions': 2, 'necessary': 1, 'solve': 1, 'key': 1, 'problems': 1, 'High': 1, 'throughput': 1, 'genomic': 1, 'proteomic': 1, 'experiments': 1, 'enable': 2, 'personalized': 1, 'medicine': 1, 'Large': 2, 'sets': 1, 'queries': 1, 'improve': 1, 'information': 1, 'retrieval': 1, 'Historical': 1, 'climate': 1, 'understand': 2, 'global': 1, 'warming': 1, 'better': 1, 'predict': 1, 'weather': 1, 'sensor': 1, 'readings': 1, 'hyperspectral': 1, 'images': 1, 'plants': 1, 'identify': 1, 'drought': 1, 'conditions': 1, 'gain': 1, 'insights': 1, 'stress': 1, 'impacts': 1, 'plant': 1, 'growth': 1, 'development': 1, 'turn': 2, 'counterattack': 1, 'hunger': 1, 'Game': 1, 'pixels': 1, 'video': 1, 'games': 1, 'observational': 1, 'help': 1, 'robots': 1, 'complex': 1, 'unstructured': 1, 'environments': 1, 'learn': 1, 'manipulation': 1, 'skills': 1, 'synonymous': 1, 'example': 1, 'AlphaGo': 2, 'Silver': 1, 'et': 1, 'al': 1, '2016': 2, 'defeated': 1, 'South': 1, 'Korean': 1, 'Master': 1, 'Lee': 1, 'Se': 1, 'dol': 1, 'board': 1, 'game': 1, 'terms': 1, 'describe': 1, 'won': 1, 'addition': 1, 'Gartner': 1, 'list': 1, 'Panetta': 1, '2017': 1, '10': 1, 'Strategic': 1, 'Trends': 1, '2018': 1, 'places': 1, 'narrow': 1, 'specifying': 1, 'consisting': 1, 'highly': 1, 'scoped': 1, 'target': 1, 'specific': 1, 'task': 1}\n"
     ]
    }
   ],
   "source": [
    "word_frequencies = {}\n",
    "\n",
    "for word in docs:\n",
    "    if word.text.lower() not in stopWords:\n",
    "        if word.text.lower() not in punctuation:\n",
    "            if word.text not in word_frequencies.keys():\n",
    "                word_frequencies[word.text] = 1\n",
    "            else:\n",
    "                word_frequencies[word.text] += 1\n",
    "                \n",
    "                \n",
    "print(word_frequencies)"
   ]
  },
  {
   "cell_type": "code",
   "execution_count": 11,
   "id": "7eace092-4a2c-4540-ac9d-f6a74c2ae5a5",
   "metadata": {},
   "outputs": [
    {
     "data": {
      "text/plain": [
       "7"
      ]
     },
     "execution_count": 11,
     "metadata": {},
     "output_type": "execute_result"
    }
   ],
   "source": [
    "# Taking max frequency for normalization\n",
    "\n",
    "maxFrequency = max(word_frequencies.values())\n",
    "maxFrequency"
   ]
  },
  {
   "cell_type": "code",
   "execution_count": 12,
   "id": "b7ceee47-039a-4262-8725-b89564d8ad51",
   "metadata": {},
   "outputs": [],
   "source": [
    "# Normalizing the data\n",
    "\n",
    "for i in word_frequencies.keys():\n",
    "    word_frequencies[i] = word_frequencies[i]/maxFrequency\n",
    "       "
   ]
  },
  {
   "cell_type": "code",
   "execution_count": 13,
   "id": "9695aee3-86b3-4738-b34e-008f6b281409",
   "metadata": {},
   "outputs": [
    {
     "name": "stdout",
     "output_type": "stream",
     "text": [
      "{'Machine': 0.14285714285714285, 'learning': 0.8571428571428571, 'ML': 0.7142857142857143, 'artificial': 0.2857142857142857, 'intelligence': 0.2857142857142857, 'AI': 0.8571428571428571, 'dominant': 0.14285714285714285, 'problem': 0.42857142857142855, 'solving': 0.14285714285714285, 'techniques': 0.2857142857142857, 'areas': 0.14285714285714285, 'research': 0.42857142857142855, 'industry': 0.14285714285714285, 'recent': 0.14285714285714285, 'successes': 0.14285714285714285, 'deep': 0.42857142857142855, 'DL': 0.7142857142857143, 'equation': 0.14285714285714285, 'recently': 0.2857142857142857, 'suggested': 0.2857142857142857, 'news': 0.2857142857142857, 'blogs': 0.2857142857142857, 'media': 0.42857142857142855, 'falls': 0.14285714285714285, 'short': 0.14285714285714285, 'fields': 0.14285714285714285, 'share': 0.14285714285714285, 'fundamental': 0.14285714285714285, 'hypotheses': 0.14285714285714285, 'computation': 0.2857142857142857, 'useful': 0.14285714285714285, 'way': 0.14285714285714285, 'model': 0.14285714285714285, 'intelligent': 0.2857142857142857, 'behavior': 0.14285714285714285, 'machines': 0.14285714285714285, 'kind': 0.14285714285714285, 'program': 0.14285714285714285, 'right': 0.14285714285714285, 'question': 0.14285714285714285, 'Computation': 0.14285714285714285, 'rules': 0.14285714285714285, 'search': 0.2857142857142857, 'logical': 0.14285714285714285, 'probabilistic': 0.14285714285714285, 'un)supervised': 0.14285714285714285, 'reinforcement': 0.14285714285714285, 'methods': 0.14285714285714285, 'computational': 0.14285714285714285, 'models': 0.14285714285714285, 'include': 0.14285714285714285, 'complement': 0.14285714285714285, 'breakthrough': 0.14285714285714285, 'lies': 0.14285714285714285, 'pushing': 0.14285714285714285, 'combining': 0.14285714285714285, '\\n\\n': 0.2857142857142857, 'Big': 0.14285714285714285, 'Data': 0.2857142857142857, 'fad': 0.14285714285714285, 'world': 0.2857142857142857, 'growing': 0.14285714285714285, 'exponential': 0.14285714285714285, 'rate': 0.14285714285714285, 'size': 0.14285714285714285, 'data': 1.0, 'collected': 0.14285714285714285, 'globe': 0.14285714285714285, 'meaningful': 0.14285714285714285, 'contextually': 0.14285714285714285, 'relevant': 0.14285714285714285, 'breaking': 0.14285714285714285, 'new': 0.14285714285714285, 'grounds': 0.14285714285714285, 'machine': 0.2857142857142857, 'particular': 0.14285714285714285, 'moving': 0.14285714285714285, 'labs': 0.14285714285714285, 'production': 0.14285714285714285, 'Jordan': 0.14285714285714285, 'Mitchell': 0.14285714285714285, '2015': 0.14285714285714285, 'shifted': 0.14285714285714285, 'collecting': 0.14285714285714285, 'massive': 0.14285714285714285, 'amounts': 0.2857142857142857, 'understanding': 0.14285714285714285, '—': 0.14285714285714285, 'turning': 0.14285714285714285, 'knowledge': 0.14285714285714285, 'conclusions': 0.14285714285714285, 'actions': 0.2857142857142857, 'Multiple': 0.14285714285714285, 'disciplines': 0.14285714285714285, 'cognitive': 0.14285714285714285, 'sciences': 0.2857142857142857, 'biology': 0.14285714285714285, 'finance': 0.14285714285714285, 'physics': 0.14285714285714285, 'social': 0.14285714285714285, 'companies': 0.14285714285714285, 'believe': 0.14285714285714285, 'driven': 0.14285714285714285, '“': 0.2857142857142857, '”': 0.14285714285714285, 'solutions': 0.2857142857142857, 'necessary': 0.14285714285714285, 'solve': 0.14285714285714285, 'key': 0.14285714285714285, 'problems': 0.14285714285714285, 'High': 0.14285714285714285, 'throughput': 0.14285714285714285, 'genomic': 0.14285714285714285, 'proteomic': 0.14285714285714285, 'experiments': 0.14285714285714285, 'enable': 0.2857142857142857, 'personalized': 0.14285714285714285, 'medicine': 0.14285714285714285, 'Large': 0.2857142857142857, 'sets': 0.14285714285714285, 'queries': 0.14285714285714285, 'improve': 0.14285714285714285, 'information': 0.14285714285714285, 'retrieval': 0.14285714285714285, 'Historical': 0.14285714285714285, 'climate': 0.14285714285714285, 'understand': 0.2857142857142857, 'global': 0.14285714285714285, 'warming': 0.14285714285714285, 'better': 0.14285714285714285, 'predict': 0.14285714285714285, 'weather': 0.14285714285714285, 'sensor': 0.14285714285714285, 'readings': 0.14285714285714285, 'hyperspectral': 0.14285714285714285, 'images': 0.14285714285714285, 'plants': 0.14285714285714285, 'identify': 0.14285714285714285, 'drought': 0.14285714285714285, 'conditions': 0.14285714285714285, 'gain': 0.14285714285714285, 'insights': 0.14285714285714285, 'stress': 0.14285714285714285, 'impacts': 0.14285714285714285, 'plant': 0.14285714285714285, 'growth': 0.14285714285714285, 'development': 0.14285714285714285, 'turn': 0.2857142857142857, 'counterattack': 0.14285714285714285, 'hunger': 0.14285714285714285, 'Game': 0.14285714285714285, 'pixels': 0.14285714285714285, 'video': 0.14285714285714285, 'games': 0.14285714285714285, 'observational': 0.14285714285714285, 'help': 0.14285714285714285, 'robots': 0.14285714285714285, 'complex': 0.14285714285714285, 'unstructured': 0.14285714285714285, 'environments': 0.14285714285714285, 'learn': 0.14285714285714285, 'manipulation': 0.14285714285714285, 'skills': 0.14285714285714285, 'synonymous': 0.14285714285714285, 'example': 0.14285714285714285, 'AlphaGo': 0.2857142857142857, 'Silver': 0.14285714285714285, 'et': 0.14285714285714285, 'al': 0.14285714285714285, '2016': 0.2857142857142857, 'defeated': 0.14285714285714285, 'South': 0.14285714285714285, 'Korean': 0.14285714285714285, 'Master': 0.14285714285714285, 'Lee': 0.14285714285714285, 'Se': 0.14285714285714285, 'dol': 0.14285714285714285, 'board': 0.14285714285714285, 'game': 0.14285714285714285, 'terms': 0.14285714285714285, 'describe': 0.14285714285714285, 'won': 0.14285714285714285, 'addition': 0.14285714285714285, 'Gartner': 0.14285714285714285, 'list': 0.14285714285714285, 'Panetta': 0.14285714285714285, '2017': 0.14285714285714285, '10': 0.14285714285714285, 'Strategic': 0.14285714285714285, 'Trends': 0.14285714285714285, '2018': 0.14285714285714285, 'places': 0.14285714285714285, 'narrow': 0.14285714285714285, 'specifying': 0.14285714285714285, 'consisting': 0.14285714285714285, 'highly': 0.14285714285714285, 'scoped': 0.14285714285714285, 'target': 0.14285714285714285, 'specific': 0.14285714285714285, 'task': 0.14285714285714285}\n"
     ]
    }
   ],
   "source": [
    "print(word_frequencies)"
   ]
  },
  {
   "cell_type": "code",
   "execution_count": 14,
   "id": "314a8281-f0eb-4631-a02e-bac2834caeba",
   "metadata": {},
   "outputs": [
    {
     "name": "stdout",
     "output_type": "stream",
     "text": [
      "[Machine learning (ML) and artificial intelligence (AI) are becoming dominant problem-solving techniques in many areas of research and industry, not least because of the recent successes of deep learning (DL)., However, the equation AI=ML=DL, as recently suggested in the news, blogs, and media, falls too short., These fields share the same fundamental hypotheses: computation is a useful way to model intelligent behavior in machines., What kind of computation and how to program it?, This is not the right question., Computation neither rules out search, logical, and probabilistic techniques, nor (deep) (un)supervised and reinforcement learning methods, among others, as computational models do include all of them., They complement each other, and the next breakthrough lies not only in pushing each of them but also in combining them.\n",
      "\n",
      ", Big Data is no fad., The world is growing at an exponential rate and so is the size of the data collected across the globe., Data is becoming more meaningful and contextually relevant, breaking new grounds for machine learning (ML), in particular for deep learning (DL) and artificial intelligence (AI), moving them out of research labs into production (Jordan and Mitchell, 2015)., The problem has shifted from collecting massive amounts of data to understanding it—turning it into knowledge, conclusions, and actions., Multiple research disciplines, from cognitive sciences to biology, finance, physics, and social sciences, as well as many companies believe that data-driven and “intelligent” solutions are necessary to solve many of their key problems., High-throughput genomic and proteomic experiments can be used to enable personalized medicine., Large data sets of search queries can be used to improve information retrieval., Historical climate data can be used to understand global warming and to better predict weather., Large amounts of sensor readings and hyperspectral images of plants can be used to identify drought conditions and to gain insights into when and how stress impacts plant growth and development and in turn how to counterattack the problem of world hunger., Game data can turn pixels into actions within video games, while observational data can help enable robots to understand complex and unstructured environments and to learn manipulation skills.\n",
      "\n",
      ", However, is AI, ML, and DL really synonymous, as recently suggested in the news, blogs, and media?, For example, when AlphaGo (Silver et al., 2016) defeated South Korean Master Lee Se-dol in the board game Go in 2016, the terms AI, ML, and DL were used by the media to describe how AlphaGo won., In addition to this, even Gartner's list (Panetta, 2017) of top 10 Strategic Trends for 2018 places (narrow) AI at the very top, specifying it as “consisting of highly scoped machine-learning solutions that target a specific task.]\n"
     ]
    }
   ],
   "source": [
    "sent_tokenz = [sent for sent in docs.sents]\n",
    "print(sent_tokenz) "
   ]
  },
  {
   "cell_type": "code",
   "execution_count": 15,
   "id": "0a5bd329-5023-4c1b-84a2-c459e7e13e69",
   "metadata": {},
   "outputs": [
    {
     "data": {
      "text/plain": [
       "{Machine learning (ML) and artificial intelligence (AI) are becoming dominant problem-solving techniques in many areas of research and industry, not least because of the recent successes of deep learning (DL).: 4.999999999999998,\n",
       " However, the equation AI=ML=DL, as recently suggested in the news, blogs, and media, falls too short.: 1.9999999999999998,\n",
       " These fields share the same fundamental hypotheses: computation is a useful way to model intelligent behavior in machines.: 1.8571428571428568,\n",
       " What kind of computation and how to program it?: 0.5714285714285714,\n",
       " This is not the right question.: 0.2857142857142857,\n",
       " Computation neither rules out search, logical, and probabilistic techniques, nor (deep) (un)supervised and reinforcement learning methods, among others, as computational models do include all of them.: 3.428571428571428,\n",
       " They complement each other, and the next breakthrough lies not only in pushing each of them but also in combining them.\n",
       " : 0.9999999999999999,\n",
       " Big Data is no fad.: 1.1428571428571428,\n",
       " The world is growing at an exponential rate and so is the size of the data collected across the globe.: 2.142857142857143,\n",
       " Data is becoming more meaningful and contextually relevant, breaking new grounds for machine learning (ML), in particular for deep learning (DL) and artificial intelligence (AI), moving them out of research labs into production (Jordan and Mitchell, 2015).: 6.000000000000001,\n",
       " The problem has shifted from collecting massive amounts of data to understanding it—turning it into knowledge, conclusions, and actions.: 3.1428571428571423,\n",
       " Multiple research disciplines, from cognitive sciences to biology, finance, physics, and social sciences, as well as many companies believe that data-driven and “intelligent” solutions are necessary to solve many of their key problems.: 4.857142857142858,\n",
       " High-throughput genomic and proteomic experiments can be used to enable personalized medicine.: 1.1428571428571428,\n",
       " Large data sets of search queries can be used to improve information retrieval.: 1.9999999999999996,\n",
       " Historical climate data can be used to understand global warming and to better predict weather.: 2.1428571428571423,\n",
       " Large amounts of sensor readings and hyperspectral images of plants can be used to identify drought conditions and to gain insights into when and how stress impacts plant growth and development and in turn how to counterattack the problem of world hunger.: 3.714285714285713,\n",
       " Game data can turn pixels into actions within video games, while observational data can help enable robots to understand complex and unstructured environments and to learn manipulation skills.\n",
       " : 5.285714285714287,\n",
       " However, is AI, ML, and DL really synonymous, as recently suggested in the news, blogs, and media?: 1.7142857142857142,\n",
       " For example, when AlphaGo (Silver et al., 2016) defeated South Korean Master Lee Se-dol in the board game Go in 2016, the terms AI, ML, and DL were used by the media to describe how AlphaGo won.: 2.428571428571428,\n",
       " In addition to this, even Gartner's list (Panetta, 2017) of top 10 Strategic Trends for 2018 places (narrow) AI at the very top, specifying it as “consisting of highly scoped machine-learning solutions that target a specific task.: 3.7142857142857135}"
      ]
     },
     "execution_count": 15,
     "metadata": {},
     "output_type": "execute_result"
    }
   ],
   "source": [
    "sentence_score = {}\n",
    "\n",
    "for sent in sent_tokenz:\n",
    "    for word in sent:\n",
    "        if word.text.lower() in word_frequencies.keys():\n",
    "            if sent not in sentence_score.keys():\n",
    "                sentence_score[sent] = word_frequencies[word.text.lower()]\n",
    "            else:\n",
    "                sentence_score[sent] += word_frequencies[word.text.lower()]\n",
    "                \n",
    "                \n",
    "sentence_score\n",
    "    "
   ]
  },
  {
   "cell_type": "code",
   "execution_count": 16,
   "id": "e7ed8f80-9e7e-4d85-88da-845243402e21",
   "metadata": {},
   "outputs": [],
   "source": [
    "from heapq import nlargest"
   ]
  },
  {
   "cell_type": "code",
   "execution_count": 17,
   "id": "c0b53a74-80b2-4431-9446-e17ca5b30ebd",
   "metadata": {},
   "outputs": [
    {
     "data": {
      "text/plain": [
       "6"
      ]
     },
     "execution_count": 17,
     "metadata": {},
     "output_type": "execute_result"
    }
   ],
   "source": [
    "select_len = int(len(sent_tokenz)*0.3)\n",
    "select_len"
   ]
  },
  {
   "cell_type": "code",
   "execution_count": 18,
   "id": "2fa9c922-1a84-4adc-a784-e59404155e32",
   "metadata": {},
   "outputs": [
    {
     "data": {
      "text/plain": [
       "[Data is becoming more meaningful and contextually relevant, breaking new grounds for machine learning (ML), in particular for deep learning (DL) and artificial intelligence (AI), moving them out of research labs into production (Jordan and Mitchell, 2015).,\n",
       " Game data can turn pixels into actions within video games, while observational data can help enable robots to understand complex and unstructured environments and to learn manipulation skills.\n",
       " ,\n",
       " Machine learning (ML) and artificial intelligence (AI) are becoming dominant problem-solving techniques in many areas of research and industry, not least because of the recent successes of deep learning (DL).,\n",
       " Multiple research disciplines, from cognitive sciences to biology, finance, physics, and social sciences, as well as many companies believe that data-driven and “intelligent” solutions are necessary to solve many of their key problems.,\n",
       " In addition to this, even Gartner's list (Panetta, 2017) of top 10 Strategic Trends for 2018 places (narrow) AI at the very top, specifying it as “consisting of highly scoped machine-learning solutions that target a specific task.,\n",
       " Large amounts of sensor readings and hyperspectral images of plants can be used to identify drought conditions and to gain insights into when and how stress impacts plant growth and development and in turn how to counterattack the problem of world hunger.]"
      ]
     },
     "execution_count": 18,
     "metadata": {},
     "output_type": "execute_result"
    }
   ],
   "source": [
    "summary = nlargest(select_len,sentence_score,sentence_score.get)\n",
    "summary"
   ]
  },
  {
   "cell_type": "code",
   "execution_count": 19,
   "id": "54e8375f-1dad-4c40-b654-3c46acf07ad2",
   "metadata": {},
   "outputs": [
    {
     "data": {
      "text/plain": [
       "['Data is becoming more meaningful and contextually relevant, breaking new grounds for machine learning (ML), in particular for deep learning (DL) and artificial intelligence (AI), moving them out of research labs into production (Jordan and Mitchell, 2015).',\n",
       " 'Game data can turn pixels into actions within video games, while observational data can help enable robots to understand complex and unstructured environments and to learn manipulation skills.\\n\\n',\n",
       " 'Machine learning (ML) and artificial intelligence (AI) are becoming dominant problem-solving techniques in many areas of research and industry, not least because of the recent successes of deep learning (DL).',\n",
       " 'Multiple research disciplines, from cognitive sciences to biology, finance, physics, and social sciences, as well as many companies believe that data-driven and “intelligent” solutions are necessary to solve many of their key problems.',\n",
       " \"In addition to this, even Gartner's list (Panetta, 2017) of top 10 Strategic Trends for 2018 places (narrow) AI at the very top, specifying it as “consisting of highly scoped machine-learning solutions that target a specific task.\",\n",
       " 'Large amounts of sensor readings and hyperspectral images of plants can be used to identify drought conditions and to gain insights into when and how stress impacts plant growth and development and in turn how to counterattack the problem of world hunger.']"
      ]
     },
     "execution_count": 19,
     "metadata": {},
     "output_type": "execute_result"
    }
   ],
   "source": [
    "summary = [word.text for word in summary]\n",
    "summary"
   ]
  },
  {
   "cell_type": "code",
   "execution_count": 20,
   "id": "4b490491-d9fb-4088-b631-731aec3787ef",
   "metadata": {},
   "outputs": [
    {
     "data": {
      "text/plain": [
       "\"Data is becoming more meaningful and contextually relevant, breaking new grounds for machine learning (ML), in particular for deep learning (DL) and artificial intelligence (AI), moving them out of research labs into production (Jordan and Mitchell, 2015). Game data can turn pixels into actions within video games, while observational data can help enable robots to understand complex and unstructured environments and to learn manipulation skills.\\n\\n Machine learning (ML) and artificial intelligence (AI) are becoming dominant problem-solving techniques in many areas of research and industry, not least because of the recent successes of deep learning (DL). Multiple research disciplines, from cognitive sciences to biology, finance, physics, and social sciences, as well as many companies believe that data-driven and “intelligent” solutions are necessary to solve many of their key problems. In addition to this, even Gartner's list (Panetta, 2017) of top 10 Strategic Trends for 2018 places (narrow) AI at the very top, specifying it as “consisting of highly scoped machine-learning solutions that target a specific task. Large amounts of sensor readings and hyperspectral images of plants can be used to identify drought conditions and to gain insights into when and how stress impacts plant growth and development and in turn how to counterattack the problem of world hunger.\""
      ]
     },
     "execution_count": 20,
     "metadata": {},
     "output_type": "execute_result"
    }
   ],
   "source": [
    "summary = \" \".join(summary)\n",
    "summary"
   ]
  },
  {
   "cell_type": "code",
   "execution_count": 21,
   "id": "c35a1836-a4e2-4c1b-8852-c9973cd5fc49",
   "metadata": {},
   "outputs": [
    {
     "data": {
      "text/plain": [
       "(2834, 1383)"
      ]
     },
     "execution_count": 21,
     "metadata": {},
     "output_type": "execute_result"
    }
   ],
   "source": [
    "len(doc),len(summary)"
   ]
  },
  {
   "cell_type": "code",
   "execution_count": null,
   "id": "1155fab5-42c8-4975-ada4-cf55ea92baec",
   "metadata": {},
   "outputs": [],
   "source": []
  }
 ],
 "metadata": {
  "kernelspec": {
   "display_name": "Python 3 (ipykernel)",
   "language": "python",
   "name": "python3"
  },
  "language_info": {
   "codemirror_mode": {
    "name": "ipython",
    "version": 3
   },
   "file_extension": ".py",
   "mimetype": "text/x-python",
   "name": "python",
   "nbconvert_exporter": "python",
   "pygments_lexer": "ipython3",
   "version": "3.12.7"
  }
 },
 "nbformat": 4,
 "nbformat_minor": 5
}
